{
 "cells": [
  {
   "cell_type": "code",
   "execution_count": 49,
   "metadata": {},
   "outputs": [
    {
     "name": "stdout",
     "output_type": "stream",
     "text": [
      "0\tI\tsaw\tnsubj\n",
      "1\tsaw\tsaw\tROOT\n",
      "2\ta\tman\tdet\n",
      "3\tman\tsaw\tdobj\n",
      "4\twith\tman\tprep\n"
     ]
    }
   ],
   "source": [
    "'''\n",
    "expract a path of dependency relations from the ROOT to a token\n",
    "'''\n",
    "\n",
    "import spacy\n",
    "\n",
    "example = 'I saw a man with the telescope.'\n",
    "\n",
    "nlp = spacy.load('en_core_web_sm')\n",
    "doc = nlp(example)\n",
    "tok = doc[5]\n",
    "def root_token_path(sentence, t):\n",
    "    for sent in sentence.sents:\n",
    "        for token in sent:\n",
    "            if (token != t):\n",
    "                print(\"{}\\t{}\\t{}\\t{}\".format(token.i, token.text, token.head, token.dep_))\n",
    "            else:\n",
    "                break\n",
    "\n",
    "root_token_path(doc, tok)"
   ]
  },
  {
   "cell_type": "code",
   "execution_count": 50,
   "metadata": {},
   "outputs": [
    {
     "name": "stdout",
     "output_type": "stream",
     "text": [
      "a\n",
      "man\n",
      "with\n",
      "the\n",
      "telescope\n"
     ]
    }
   ],
   "source": [
    "'''\n",
    "extract subtree of a dependents given a token\n",
    "'''\n",
    "\n",
    "def subtree_extraction(sentence):\n",
    "    give_subtree = sentence[3].subtree\n",
    "    for sent in give_subtree:\n",
    "        print(sent.text)\n",
    "\n",
    "subtree_extraction(spacy_doc)"
   ]
  },
  {
   "cell_type": "code",
   "execution_count": 51,
   "metadata": {},
   "outputs": [
    {
     "name": "stdout",
     "output_type": "stream",
     "text": [
      "The token list:['the', 'telescope'] is a subtree\n"
     ]
    }
   ],
   "source": [
    "'''\n",
    "check if a given list of tokens (segment of a sentence) forms a subtree\n",
    "'''\n",
    "\n",
    "def check_list_subtree(sentence, token_list):\n",
    "    for i in range(len(sentence)):\n",
    "        give_subtree = sentence[i].subtree\n",
    "        if ([t.text for t in give_subtree] == token_list):\n",
    "            #print(\"great\")\n",
    "            print(\"The token list:\" + str(token_list) + \" is a subtree\")\n",
    "            break\n",
    "        \n",
    "token_list =[\"the\", \"telescope\"]\n",
    "check_list_subtree(spacy_doc, token_list)"
   ]
  },
  {
   "cell_type": "code",
   "execution_count": 53,
   "metadata": {},
   "outputs": [
    {
     "name": "stdout",
     "output_type": "stream",
     "text": [
      "The sentence is:  Apple is looking at buying U.K. startup for $1 billion. That society is called Shazam\n",
      "This is the span:\n",
      "That\n",
      "society\n",
      "is\n",
      "called\n",
      "Shazam\n",
      "The head of the span is:  called\n"
     ]
    }
   ],
   "source": [
    "'''\n",
    "identify head of a span, given its tokens\n",
    "'''\n",
    "\n",
    "example2 = \"Apple is looking at buying U.K. startup for $1 billion. That society is called Shazam\"\n",
    "print(\"The sentence is: \", example2)\n",
    "\n",
    "doc2 = nlp(example2)\n",
    "\n",
    "\n",
    "def extract_from_span(sentence, start, end):\n",
    "    span = sentence[start:end]\n",
    "    print(\"This is the span:\")\n",
    "    for i in span:\n",
    "        print(i.text)\n",
    "    print(\"The head of the span is: \", i.head)\n",
    "    \n",
    "    \n",
    "extract_from_span(doc2, 12, 20)"
   ]
  },
  {
   "cell_type": "code",
   "execution_count": 54,
   "metadata": {},
   "outputs": [
    {
     "name": "stdout",
     "output_type": "stream",
     "text": [
      "Subject: \tApple\tnsubj\n",
      "Direct object: \tU.K.\tdobj\n"
     ]
    }
   ],
   "source": [
    "'''\n",
    "extract sentence subject, direct object and indirect object spans\n",
    "'''\n",
    "\n",
    "def extract_span_info(sentence):\n",
    "\n",
    "    for sent in sentence.sents:\n",
    "        for token in sent:\n",
    "            if(token.dep_ == 'nsubj'):\n",
    "                print(\"Subject: \\t{}\\t{}\".format(token.text, token.dep_))\n",
    "            elif (token.dep_ == 'dobj'):\n",
    "                print(\"Direct object: \\t{}\\t{}\".format(token.text, token.dep_))\n",
    "            elif (token.dep_ == 'iobj'):\n",
    "                print(\"Indirect object: \\t{}\\t{}\".format(token.text, token.dep_))\n",
    "\n",
    "extract_span_info(doc2)"
   ]
  },
  {
   "cell_type": "code",
   "execution_count": null,
   "metadata": {},
   "outputs": [],
   "source": []
  }
 ],
 "metadata": {
  "kernelspec": {
   "display_name": "Python 3",
   "language": "python",
   "name": "python3"
  },
  "language_info": {
   "codemirror_mode": {
    "name": "ipython",
    "version": 3
   },
   "file_extension": ".py",
   "mimetype": "text/x-python",
   "name": "python",
   "nbconvert_exporter": "python",
   "pygments_lexer": "ipython3",
   "version": "3.8.5"
  }
 },
 "nbformat": 4,
 "nbformat_minor": 4
}
